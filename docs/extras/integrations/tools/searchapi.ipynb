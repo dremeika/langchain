{
 "cells": [
  {
   "cell_type": "markdown",
   "id": "7960ce8a-859a-41f4-a886-0d1502ed1105",
   "metadata": {},
   "source": [
    "# SearchApi\n",
    "\n",
    "This notebooks shows examples of how to use SearchApi to search the web."
   ]
  },
  {
   "cell_type": "code",
   "execution_count": 2,
   "id": "70871a99-ffee-47d7-8e02-82eb99971f28",
   "metadata": {},
   "outputs": [],
   "source": [
    "from langchain.utilities import SearchApiAPIWrapper"
   ]
  },
  {
   "cell_type": "code",
   "execution_count": 3,
   "id": "8c0977f3-c136-400a-8024-f4f00645b981",
   "metadata": {},
   "outputs": [],
   "source": [
    "search = SearchApiAPIWrapper()"
   ]
  },
  {
   "cell_type": "code",
   "execution_count": 4,
   "id": "f573767d-4144-4407-8149-5fdddab99c63",
   "metadata": {},
   "outputs": [
    {
     "data": {
      "text/plain": [
       "'Barack Hussein Obama II'"
      ]
     },
     "execution_count": 4,
     "metadata": {},
     "output_type": "execute_result"
    }
   ],
   "source": [
    "search.run(\"Obama's first name?\")"
   ]
  },
  {
   "cell_type": "markdown",
   "id": "cc433d06-579b-45e5-a256-2bb30bbefb93",
   "metadata": {},
   "source": [
    "## Custom parameters\n",
    "\n",
    "SearchApi warpper can be customized to use different engines like `google_jobs`, `google_scholar` or others which can be found in SearchApi.io documentation. "
   ]
  },
  {
   "cell_type": "code",
   "execution_count": 5,
   "id": "6d0b4411-780a-4dcf-91b6-f3544e31e532",
   "metadata": {},
   "outputs": [],
   "source": [
    "search = SearchApiAPIWrapper(engine=\"google_jobs\")"
   ]
  },
  {
   "cell_type": "code",
   "execution_count": 7,
   "id": "34e79449-6b33-4b45-9306-7e3dab1b8599",
   "metadata": {},
   "outputs": [
    {
     "data": {
      "text/plain": [
       "'Job Description:\\n\\nRole...\\n\\nSenior Machine Learning Engineer As a Senior, Machine Learning Engineer, build and maintain large scale ML Infrastructure and ML pipelines. Supply to building advanced analy'"
      ]
     },
     "execution_count": 7,
     "metadata": {},
     "output_type": "execute_result"
    }
   ],
   "source": [
    "search.run(\"AI Engineer\")[0:200]"
   ]
  },
  {
   "cell_type": "code",
   "execution_count": 10,
   "id": "dff458c0-8bf2-40ad-8eb7-a0f066e1b563",
   "metadata": {},
   "outputs": [],
   "source": [
    "from langchain.agents import Tool\n",
    "\n",
    "# You can create the tool to pass to an agent\n",
    "repl_tool = Tool(\n",
    "    name=\"python_repl\",\n",
    "    description=\"A Python shell. Use this to execute python commands. Input should be a valid python command. If you want to see the output of a value, you should print it out with `print(...)`.\",\n",
    "    func=search.run,\n",
    ")"
   ]
  }
 ],
 "metadata": {
  "kernelspec": {
   "display_name": "Python 3 (ipykernel)",
   "language": "python",
   "name": "python3"
  },
  "language_info": {
   "codemirror_mode": {
    "name": "ipython",
    "version": 3
   },
   "file_extension": ".py",
   "mimetype": "text/x-python",
   "name": "python",
   "nbconvert_exporter": "python",
   "pygments_lexer": "ipython3",
   "version": "3.10.7"
  }
 },
 "nbformat": 4,
 "nbformat_minor": 5
}
